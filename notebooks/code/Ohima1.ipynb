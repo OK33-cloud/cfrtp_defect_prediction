version https://git-lfs.github.com/spec/v1
oid sha256:1908b8defd705640884839b5df086e382e219da550cd26fdeb256b2d45a75a42
size 468093430
