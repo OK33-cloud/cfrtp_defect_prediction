version https://git-lfs.github.com/spec/v1
oid sha256:868137178a1373bf350d27b46caaca90aca53bebf407437967811080ab4a0b2f
size 468091555
