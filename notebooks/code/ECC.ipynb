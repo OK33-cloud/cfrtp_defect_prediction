version https://git-lfs.github.com/spec/v1
oid sha256:da792e05dec527bc09fa263f47e62be94d9943b80b1928b9bbde9313574163df
size 1261615
