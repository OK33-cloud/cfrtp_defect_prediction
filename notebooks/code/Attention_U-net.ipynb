version https://git-lfs.github.com/spec/v1
oid sha256:6e1500d2c62fb2da17df97ba2099c432f93b33dde35b9396cfcf1d8187bcde1f
size 796916
