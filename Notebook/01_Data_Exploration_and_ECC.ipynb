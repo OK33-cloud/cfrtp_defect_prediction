version https://git-lfs.github.com/spec/v1
oid sha256:8f9a9d030f098c75ac2b3fd4e93163370637ea3896f5104bd9ffca272f82eb89
size 166968
