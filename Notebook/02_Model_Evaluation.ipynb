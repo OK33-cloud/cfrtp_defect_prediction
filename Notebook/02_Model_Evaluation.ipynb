version https://git-lfs.github.com/spec/v1
oid sha256:684a4d209dd1b7e479ddc44ed9fbee8e9b1fdf16f3b16742ec7f89e104bd91bb
size 570776
